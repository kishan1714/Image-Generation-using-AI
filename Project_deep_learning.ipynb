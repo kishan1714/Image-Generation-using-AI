{
  "nbformat": 4,
  "nbformat_minor": 0,
  "metadata": {
    "colab": {
      "provenance": [],
      "gpuType": "T4"
    },
    "kernelspec": {
      "name": "python3",
      "display_name": "Python 3"
    },
    "language_info": {
      "name": "python"
    },
    "accelerator": "GPU"
  },
  "cells": [
    {
      "cell_type": "code",
      "execution_count": null,
      "metadata": {
        "colab": {
          "base_uri": "https://localhost:8080/"
        },
        "id": "nnXaDmQqU0zI",
        "outputId": "76a2ecad-ecde-4abc-fe3e-86f9d42a52d0"
      },
      "outputs": [
        {
          "output_type": "stream",
          "name": "stdout",
          "text": [
            "Requirement already satisfied: tensorflow in /usr/local/lib/python3.11/dist-packages (2.18.0)\n",
            "Requirement already satisfied: imageio in /usr/local/lib/python3.11/dist-packages (2.37.0)\n",
            "Collecting tensorflow-docs\n",
            "  Downloading tensorflow_docs-2025.2.19.33219-py3-none-any.whl.metadata (1.1 kB)\n",
            "Requirement already satisfied: absl-py>=1.0.0 in /usr/local/lib/python3.11/dist-packages (from tensorflow) (1.4.0)\n",
            "Requirement already satisfied: astunparse>=1.6.0 in /usr/local/lib/python3.11/dist-packages (from tensorflow) (1.6.3)\n",
            "Requirement already satisfied: flatbuffers>=24.3.25 in /usr/local/lib/python3.11/dist-packages (from tensorflow) (25.2.10)\n",
            "Requirement already satisfied: gast!=0.5.0,!=0.5.1,!=0.5.2,>=0.2.1 in /usr/local/lib/python3.11/dist-packages (from tensorflow) (0.6.0)\n",
            "Requirement already satisfied: google-pasta>=0.1.1 in /usr/local/lib/python3.11/dist-packages (from tensorflow) (0.2.0)\n",
            "Requirement already satisfied: libclang>=13.0.0 in /usr/local/lib/python3.11/dist-packages (from tensorflow) (18.1.1)\n",
            "Requirement already satisfied: opt-einsum>=2.3.2 in /usr/local/lib/python3.11/dist-packages (from tensorflow) (3.4.0)\n",
            "Requirement already satisfied: packaging in /usr/local/lib/python3.11/dist-packages (from tensorflow) (24.2)\n",
            "Requirement already satisfied: protobuf!=4.21.0,!=4.21.1,!=4.21.2,!=4.21.3,!=4.21.4,!=4.21.5,<6.0.0dev,>=3.20.3 in /usr/local/lib/python3.11/dist-packages (from tensorflow) (5.29.5)\n",
            "Requirement already satisfied: requests<3,>=2.21.0 in /usr/local/lib/python3.11/dist-packages (from tensorflow) (2.32.3)\n",
            "Requirement already satisfied: setuptools in /usr/local/lib/python3.11/dist-packages (from tensorflow) (75.2.0)\n",
            "Requirement already satisfied: six>=1.12.0 in /usr/local/lib/python3.11/dist-packages (from tensorflow) (1.17.0)\n",
            "Requirement already satisfied: termcolor>=1.1.0 in /usr/local/lib/python3.11/dist-packages (from tensorflow) (3.1.0)\n",
            "Requirement already satisfied: typing-extensions>=3.6.6 in /usr/local/lib/python3.11/dist-packages (from tensorflow) (4.14.0)\n",
            "Requirement already satisfied: wrapt>=1.11.0 in /usr/local/lib/python3.11/dist-packages (from tensorflow) (1.17.2)\n",
            "Requirement already satisfied: grpcio<2.0,>=1.24.3 in /usr/local/lib/python3.11/dist-packages (from tensorflow) (1.73.1)\n",
            "Requirement already satisfied: tensorboard<2.19,>=2.18 in /usr/local/lib/python3.11/dist-packages (from tensorflow) (2.18.0)\n",
            "Requirement already satisfied: keras>=3.5.0 in /usr/local/lib/python3.11/dist-packages (from tensorflow) (3.8.0)\n",
            "Requirement already satisfied: numpy<2.1.0,>=1.26.0 in /usr/local/lib/python3.11/dist-packages (from tensorflow) (2.0.2)\n",
            "Requirement already satisfied: h5py>=3.11.0 in /usr/local/lib/python3.11/dist-packages (from tensorflow) (3.14.0)\n",
            "Requirement already satisfied: ml-dtypes<0.5.0,>=0.4.0 in /usr/local/lib/python3.11/dist-packages (from tensorflow) (0.4.1)\n",
            "Requirement already satisfied: tensorflow-io-gcs-filesystem>=0.23.1 in /usr/local/lib/python3.11/dist-packages (from tensorflow) (0.37.1)\n",
            "Requirement already satisfied: pillow>=8.3.2 in /usr/local/lib/python3.11/dist-packages (from imageio) (11.2.1)\n",
            "Collecting astor (from tensorflow-docs)\n",
            "  Downloading astor-0.8.1-py2.py3-none-any.whl.metadata (4.2 kB)\n",
            "Requirement already satisfied: jinja2 in /usr/local/lib/python3.11/dist-packages (from tensorflow-docs) (3.1.6)\n",
            "Requirement already satisfied: nbformat in /usr/local/lib/python3.11/dist-packages (from tensorflow-docs) (5.10.4)\n",
            "Requirement already satisfied: pyyaml in /usr/local/lib/python3.11/dist-packages (from tensorflow-docs) (6.0.2)\n",
            "Requirement already satisfied: wheel<1.0,>=0.23.0 in /usr/local/lib/python3.11/dist-packages (from astunparse>=1.6.0->tensorflow) (0.45.1)\n",
            "Requirement already satisfied: rich in /usr/local/lib/python3.11/dist-packages (from keras>=3.5.0->tensorflow) (13.9.4)\n",
            "Requirement already satisfied: namex in /usr/local/lib/python3.11/dist-packages (from keras>=3.5.0->tensorflow) (0.1.0)\n",
            "Requirement already satisfied: optree in /usr/local/lib/python3.11/dist-packages (from keras>=3.5.0->tensorflow) (0.16.0)\n",
            "Requirement already satisfied: charset-normalizer<4,>=2 in /usr/local/lib/python3.11/dist-packages (from requests<3,>=2.21.0->tensorflow) (3.4.2)\n",
            "Requirement already satisfied: idna<4,>=2.5 in /usr/local/lib/python3.11/dist-packages (from requests<3,>=2.21.0->tensorflow) (3.10)\n",
            "Requirement already satisfied: urllib3<3,>=1.21.1 in /usr/local/lib/python3.11/dist-packages (from requests<3,>=2.21.0->tensorflow) (2.4.0)\n",
            "Requirement already satisfied: certifi>=2017.4.17 in /usr/local/lib/python3.11/dist-packages (from requests<3,>=2.21.0->tensorflow) (2025.6.15)\n",
            "Requirement already satisfied: markdown>=2.6.8 in /usr/local/lib/python3.11/dist-packages (from tensorboard<2.19,>=2.18->tensorflow) (3.8.2)\n",
            "Requirement already satisfied: tensorboard-data-server<0.8.0,>=0.7.0 in /usr/local/lib/python3.11/dist-packages (from tensorboard<2.19,>=2.18->tensorflow) (0.7.2)\n",
            "Requirement already satisfied: werkzeug>=1.0.1 in /usr/local/lib/python3.11/dist-packages (from tensorboard<2.19,>=2.18->tensorflow) (3.1.3)\n",
            "Requirement already satisfied: MarkupSafe>=2.0 in /usr/local/lib/python3.11/dist-packages (from jinja2->tensorflow-docs) (3.0.2)\n",
            "Requirement already satisfied: fastjsonschema>=2.15 in /usr/local/lib/python3.11/dist-packages (from nbformat->tensorflow-docs) (2.21.1)\n",
            "Requirement already satisfied: jsonschema>=2.6 in /usr/local/lib/python3.11/dist-packages (from nbformat->tensorflow-docs) (4.24.0)\n",
            "Requirement already satisfied: jupyter-core!=5.0.*,>=4.12 in /usr/local/lib/python3.11/dist-packages (from nbformat->tensorflow-docs) (5.8.1)\n",
            "Requirement already satisfied: traitlets>=5.1 in /usr/local/lib/python3.11/dist-packages (from nbformat->tensorflow-docs) (5.7.1)\n",
            "Requirement already satisfied: attrs>=22.2.0 in /usr/local/lib/python3.11/dist-packages (from jsonschema>=2.6->nbformat->tensorflow-docs) (25.3.0)\n",
            "Requirement already satisfied: jsonschema-specifications>=2023.03.6 in /usr/local/lib/python3.11/dist-packages (from jsonschema>=2.6->nbformat->tensorflow-docs) (2025.4.1)\n",
            "Requirement already satisfied: referencing>=0.28.4 in /usr/local/lib/python3.11/dist-packages (from jsonschema>=2.6->nbformat->tensorflow-docs) (0.36.2)\n",
            "Requirement already satisfied: rpds-py>=0.7.1 in /usr/local/lib/python3.11/dist-packages (from jsonschema>=2.6->nbformat->tensorflow-docs) (0.26.0)\n",
            "Requirement already satisfied: platformdirs>=2.5 in /usr/local/lib/python3.11/dist-packages (from jupyter-core!=5.0.*,>=4.12->nbformat->tensorflow-docs) (4.3.8)\n",
            "Requirement already satisfied: markdown-it-py>=2.2.0 in /usr/local/lib/python3.11/dist-packages (from rich->keras>=3.5.0->tensorflow) (3.0.0)\n",
            "Requirement already satisfied: pygments<3.0.0,>=2.13.0 in /usr/local/lib/python3.11/dist-packages (from rich->keras>=3.5.0->tensorflow) (2.19.2)\n",
            "Requirement already satisfied: mdurl~=0.1 in /usr/local/lib/python3.11/dist-packages (from markdown-it-py>=2.2.0->rich->keras>=3.5.0->tensorflow) (0.1.2)\n",
            "Downloading tensorflow_docs-2025.2.19.33219-py3-none-any.whl (182 kB)\n",
            "\u001b[2K   \u001b[90m━━━━━━━━━━━━━━━━━━━━━━━━━━━━━━━━━━━━━━━━\u001b[0m \u001b[32m182.7/182.7 kB\u001b[0m \u001b[31m6.5 MB/s\u001b[0m eta \u001b[36m0:00:00\u001b[0m\n",
            "\u001b[?25hDownloading astor-0.8.1-py2.py3-none-any.whl (27 kB)\n",
            "Installing collected packages: astor, tensorflow-docs\n",
            "Successfully installed astor-0.8.1 tensorflow-docs-2025.2.19.33219\n"
          ]
        }
      ],
      "source": [
        "!pip install tensorflow imageio tensorflow-docs"
      ]
    },
    {
      "cell_type": "code",
      "source": [
        "import glob\n",
        "import imageio\n",
        "import matplotlib.pyplot as plt\n",
        "import numpy as np\n",
        "import os\n",
        "import PIL\n",
        "import tensorflow as tf\n",
        "from tensorflow.keras import layers\n",
        "import time\n",
        "\n",
        "from IPython import display\n"
      ],
      "metadata": {
        "id": "vtkx3Q_xU9LK"
      },
      "execution_count": null,
      "outputs": []
    },
    {
      "cell_type": "markdown",
      "source": [
        "Loading the MNIST Handwritten digits dataset\n"
      ],
      "metadata": {
        "id": "lqtZZkDvXtvu"
      }
    },
    {
      "cell_type": "code",
      "source": [
        "\n",
        "(train_images, train_labels), (_, _) = tf.keras.datasets.mnist.load_data()"
      ],
      "metadata": {
        "colab": {
          "base_uri": "https://localhost:8080/"
        },
        "id": "cKlJKonuVD2X",
        "outputId": "c411359c-6e91-4e63-a775-80e8489535fd"
      },
      "execution_count": null,
      "outputs": [
        {
          "output_type": "stream",
          "name": "stdout",
          "text": [
            "Downloading data from https://storage.googleapis.com/tensorflow/tf-keras-datasets/mnist.npz\n",
            "\u001b[1m11490434/11490434\u001b[0m \u001b[32m━━━━━━━━━━━━━━━━━━━━\u001b[0m\u001b[37m\u001b[0m \u001b[1m1s\u001b[0m 0us/step\n"
          ]
        }
      ]
    },
    {
      "cell_type": "code",
      "source": [
        "train_images.shape\n"
      ],
      "metadata": {
        "colab": {
          "base_uri": "https://localhost:8080/"
        },
        "id": "aM5SqU5JVG12",
        "outputId": "ec920589-91de-44a9-be0c-c3a9b3c36480"
      },
      "execution_count": null,
      "outputs": [
        {
          "output_type": "execute_result",
          "data": {
            "text/plain": [
              "(60000, 28, 28)"
            ]
          },
          "metadata": {},
          "execution_count": 4
        }
      ]
    },
    {
      "cell_type": "code",
      "source": [
        "train_images[0]"
      ],
      "metadata": {
        "colab": {
          "base_uri": "https://localhost:8080/",
          "height": 69
        },
        "id": "sZQYmRXRVfdk",
        "outputId": "49308dfa-d86f-430a-e56f-80576fe5fead"
      },
      "execution_count": null,
      "outputs": [
        {
          "output_type": "execute_result",
          "data": {
            "text/plain": [
              "array([[  0,   0,   0,   0,   0,   0,   0,   0,   0,   0,   0,   0,   0,\n",
              "          0,   0,   0,   0,   0,   0,   0,   0,   0,   0,   0,   0,   0,\n",
              "          0,   0],\n",
              "       [  0,   0,   0,   0,   0,   0,   0,   0,   0,   0,   0,   0,   0,\n",
              "          0,   0,   0,   0,   0,   0,   0,   0,   0,   0,   0,   0,   0,\n",
              "          0,   0],\n",
              "       [  0,   0,   0,   0,   0,   0,   0,   0,   0,   0,   0,   0,   0,\n",
              "          0,   0,   0,   0,   0,   0,   0,   0,   0,   0,   0,   0,   0,\n",
              "          0,   0],\n",
              "       [  0,   0,   0,   0,   0,   0,   0,   0,   0,   0,   0,   0,   0,\n",
              "          0,   0,   0,   0,   0,   0,   0,   0,   0,   0,   0,   0,   0,\n",
              "          0,   0],\n",
              "       [  0,   0,   0,   0,   0,   0,   0,   0,   0,   0,   0,   0,   0,\n",
              "          0,   0,   0,   0,   0,   0,   0,   0,   0,   0,   0,   0,   0,\n",
              "          0,   0],\n",
              "       [  0,   0,   0,   0,   0,   0,   0,   0,   0,   0,   0,   0,   3,\n",
              "         18,  18,  18, 126, 136, 175,  26, 166, 255, 247, 127,   0,   0,\n",
              "          0,   0],\n",
              "       [  0,   0,   0,   0,   0,   0,   0,   0,  30,  36,  94, 154, 170,\n",
              "        253, 253, 253, 253, 253, 225, 172, 253, 242, 195,  64,   0,   0,\n",
              "          0,   0],\n",
              "       [  0,   0,   0,   0,   0,   0,   0,  49, 238, 253, 253, 253, 253,\n",
              "        253, 253, 253, 253, 251,  93,  82,  82,  56,  39,   0,   0,   0,\n",
              "          0,   0],\n",
              "       [  0,   0,   0,   0,   0,   0,   0,  18, 219, 253, 253, 253, 253,\n",
              "        253, 198, 182, 247, 241,   0,   0,   0,   0,   0,   0,   0,   0,\n",
              "          0,   0],\n",
              "       [  0,   0,   0,   0,   0,   0,   0,   0,  80, 156, 107, 253, 253,\n",
              "        205,  11,   0,  43, 154,   0,   0,   0,   0,   0,   0,   0,   0,\n",
              "          0,   0],\n",
              "       [  0,   0,   0,   0,   0,   0,   0,   0,   0,  14,   1, 154, 253,\n",
              "         90,   0,   0,   0,   0,   0,   0,   0,   0,   0,   0,   0,   0,\n",
              "          0,   0],\n",
              "       [  0,   0,   0,   0,   0,   0,   0,   0,   0,   0,   0, 139, 253,\n",
              "        190,   2,   0,   0,   0,   0,   0,   0,   0,   0,   0,   0,   0,\n",
              "          0,   0],\n",
              "       [  0,   0,   0,   0,   0,   0,   0,   0,   0,   0,   0,  11, 190,\n",
              "        253,  70,   0,   0,   0,   0,   0,   0,   0,   0,   0,   0,   0,\n",
              "          0,   0],\n",
              "       [  0,   0,   0,   0,   0,   0,   0,   0,   0,   0,   0,   0,  35,\n",
              "        241, 225, 160, 108,   1,   0,   0,   0,   0,   0,   0,   0,   0,\n",
              "          0,   0],\n",
              "       [  0,   0,   0,   0,   0,   0,   0,   0,   0,   0,   0,   0,   0,\n",
              "         81, 240, 253, 253, 119,  25,   0,   0,   0,   0,   0,   0,   0,\n",
              "          0,   0],\n",
              "       [  0,   0,   0,   0,   0,   0,   0,   0,   0,   0,   0,   0,   0,\n",
              "          0,  45, 186, 253, 253, 150,  27,   0,   0,   0,   0,   0,   0,\n",
              "          0,   0],\n",
              "       [  0,   0,   0,   0,   0,   0,   0,   0,   0,   0,   0,   0,   0,\n",
              "          0,   0,  16,  93, 252, 253, 187,   0,   0,   0,   0,   0,   0,\n",
              "          0,   0],\n",
              "       [  0,   0,   0,   0,   0,   0,   0,   0,   0,   0,   0,   0,   0,\n",
              "          0,   0,   0,   0, 249, 253, 249,  64,   0,   0,   0,   0,   0,\n",
              "          0,   0],\n",
              "       [  0,   0,   0,   0,   0,   0,   0,   0,   0,   0,   0,   0,   0,\n",
              "          0,  46, 130, 183, 253, 253, 207,   2,   0,   0,   0,   0,   0,\n",
              "          0,   0],\n",
              "       [  0,   0,   0,   0,   0,   0,   0,   0,   0,   0,   0,   0,  39,\n",
              "        148, 229, 253, 253, 253, 250, 182,   0,   0,   0,   0,   0,   0,\n",
              "          0,   0],\n",
              "       [  0,   0,   0,   0,   0,   0,   0,   0,   0,   0,  24, 114, 221,\n",
              "        253, 253, 253, 253, 201,  78,   0,   0,   0,   0,   0,   0,   0,\n",
              "          0,   0],\n",
              "       [  0,   0,   0,   0,   0,   0,   0,   0,  23,  66, 213, 253, 253,\n",
              "        253, 253, 198,  81,   2,   0,   0,   0,   0,   0,   0,   0,   0,\n",
              "          0,   0],\n",
              "       [  0,   0,   0,   0,   0,   0,  18, 171, 219, 253, 253, 253, 253,\n",
              "        195,  80,   9,   0,   0,   0,   0,   0,   0,   0,   0,   0,   0,\n",
              "          0,   0],\n",
              "       [  0,   0,   0,   0,  55, 172, 226, 253, 253, 253, 253, 244, 133,\n",
              "         11,   0,   0,   0,   0,   0,   0,   0,   0,   0,   0,   0,   0,\n",
              "          0,   0],\n",
              "       [  0,   0,   0,   0, 136, 253, 253, 253, 212, 135, 132,  16,   0,\n",
              "          0,   0,   0,   0,   0,   0,   0,   0,   0,   0,   0,   0,   0,\n",
              "          0,   0],\n",
              "       [  0,   0,   0,   0,   0,   0,   0,   0,   0,   0,   0,   0,   0,\n",
              "          0,   0,   0,   0,   0,   0,   0,   0,   0,   0,   0,   0,   0,\n",
              "          0,   0],\n",
              "       [  0,   0,   0,   0,   0,   0,   0,   0,   0,   0,   0,   0,   0,\n",
              "          0,   0,   0,   0,   0,   0,   0,   0,   0,   0,   0,   0,   0,\n",
              "          0,   0],\n",
              "       [  0,   0,   0,   0,   0,   0,   0,   0,   0,   0,   0,   0,   0,\n",
              "          0,   0,   0,   0,   0,   0,   0,   0,   0,   0,   0,   0,   0,\n",
              "          0,   0]], dtype=uint8)"
            ],
            "text/html": [
              "<style>\n",
              "      .ndarray_repr .ndarray_raw_data {\n",
              "        display: none;\n",
              "      }\n",
              "      .ndarray_repr.show_array .ndarray_raw_data {\n",
              "        display: block;\n",
              "      }\n",
              "      .ndarray_repr.show_array .ndarray_image_preview {\n",
              "        display: none;\n",
              "      }\n",
              "      </style>\n",
              "      <div id=\"id-01caaea8-9223-41f8-813f-bb234bc80eee\" class=\"ndarray_repr\"><pre>ndarray (28, 28) <button style=\"padding: 0 2px;\">show data</button></pre><img src=\"data:image/png;base64,iVBORw0KGgoAAAANSUhEUgAAABwAAAAcCAAAAABXZoBIAAABAElEQVR4nGNgGMyAWUhIqK5jvdSy/9/rGRgYGFhgEnJsVjYCwQwMDAxPJgV+vniQgYGBgREqZ7iXH8r6l/SV4dn7m8gmCt3++/fv37/Htn3/iMW+gDnZf/+e5WbQnoXNNXyMs/5GoQoxwVmf/n9kSGFiwAW49/11wynJoPzx4YIcRlyygR/+/i2XxCWru+vv32nSuGQFYv/83Y3b4p9/fzpAmSyoMnohpiwM1w5h06Q+5enfv39/bcMiJVF09+/fv39P+mFKiTtd/fv3799jgZiBJLT69t+/f/8eDuDEkDJf8+jv379/v7Ryo4qzMDAwMAQGMjBc3/y35wM2V1IfAABFF16Aa0wAOwAAAABJRU5ErkJggg==\" class=\"ndarray_image_preview\" /><pre class=\"ndarray_raw_data\">array([[  0,   0,   0,   0,   0,   0,   0,   0,   0,   0,   0,   0,   0,\n",
              "          0,   0,   0,   0,   0,   0,   0,   0,   0,   0,   0,   0,   0,\n",
              "          0,   0],\n",
              "       [  0,   0,   0,   0,   0,   0,   0,   0,   0,   0,   0,   0,   0,\n",
              "          0,   0,   0,   0,   0,   0,   0,   0,   0,   0,   0,   0,   0,\n",
              "          0,   0],\n",
              "       [  0,   0,   0,   0,   0,   0,   0,   0,   0,   0,   0,   0,   0,\n",
              "          0,   0,   0,   0,   0,   0,   0,   0,   0,   0,   0,   0,   0,\n",
              "          0,   0],\n",
              "       [  0,   0,   0,   0,   0,   0,   0,   0,   0,   0,   0,   0,   0,\n",
              "          0,   0,   0,   0,   0,   0,   0,   0,   0,   0,   0,   0,   0,\n",
              "          0,   0],\n",
              "       [  0,   0,   0,   0,   0,   0,   0,   0,   0,   0,   0,   0,   0,\n",
              "          0,   0,   0,   0,   0,   0,   0,   0,   0,   0,   0,   0,   0,\n",
              "          0,   0],\n",
              "       [  0,   0,   0,   0,   0,   0,   0,   0,   0,   0,   0,   0,   3,\n",
              "         18,  18,  18, 126, 136, 175,  26, 166, 255, 247, 127,   0,   0,\n",
              "          0,   0],\n",
              "       [  0,   0,   0,   0,   0,   0,   0,   0,  30,  36,  94, 154, 170,\n",
              "        253, 253, 253, 253, 253, 225, 172, 253, 242, 195,  64,   0,   0,\n",
              "          0,   0],\n",
              "       [  0,   0,   0,   0,   0,   0,   0,  49, 238, 253, 253, 253, 253,\n",
              "        253, 253, 253, 253, 251,  93,  82,  82,  56,  39,   0,   0,   0,\n",
              "          0,   0],\n",
              "       [  0,   0,   0,   0,   0,   0,   0,  18, 219, 253, 253, 253, 253,\n",
              "        253, 198, 182, 247, 241,   0,   0,   0,   0,   0,   0,   0,   0,\n",
              "          0,   0],\n",
              "       [  0,   0,   0,   0,   0,   0,   0,   0,  80, 156, 107, 253, 253,\n",
              "        205,  11,   0,  43, 154,   0,   0,   0,   0,   0,   0,   0,   0,\n",
              "          0,   0],\n",
              "       [  0,   0,   0,   0,   0,   0,   0,   0,   0,  14,   1, 154, 253,\n",
              "         90,   0,   0,   0,   0,   0,   0,   0,   0,   0,   0,   0,   0,\n",
              "          0,   0],\n",
              "       [  0,   0,   0,   0,   0,   0,   0,   0,   0,   0,   0, 139, 253,\n",
              "        190,   2,   0,   0,   0,   0,   0,   0,   0,   0,   0,   0,   0,\n",
              "          0,   0],\n",
              "       [  0,   0,   0,   0,   0,   0,   0,   0,   0,   0,   0,  11, 190,\n",
              "        253,  70,   0,   0,   0,   0,   0,   0,   0,   0,   0,   0,   0,\n",
              "          0,   0],\n",
              "       [  0,   0,   0,   0,   0,   0,   0,   0,   0,   0,   0,   0,  35,\n",
              "        241, 225, 160, 108,   1,   0,   0,   0,   0,   0,   0,   0,   0,\n",
              "          0,   0],\n",
              "       [  0,   0,   0,   0,   0,   0,   0,   0,   0,   0,   0,   0,   0,\n",
              "         81, 240, 253, 253, 119,  25,   0,   0,   0,   0,   0,   0,   0,\n",
              "          0,   0],\n",
              "       [  0,   0,   0,   0,   0,   0,   0,   0,   0,   0,   0,   0,   0,\n",
              "          0,  45, 186, 253, 253, 150,  27,   0,   0,   0,   0,   0,   0,\n",
              "          0,   0],\n",
              "       [  0,   0,   0,   0,   0,   0,   0,   0,   0,   0,   0,   0,   0,\n",
              "          0,   0,  16,  93, 252, 253, 187,   0,   0,   0,   0,   0,   0,\n",
              "          0,   0],\n",
              "       [  0,   0,   0,   0,   0,   0,   0,   0,   0,   0,   0,   0,   0,\n",
              "          0,   0,   0,   0, 249, 253, 249,  64,   0,   0,   0,   0,   0,\n",
              "          0,   0],\n",
              "       [  0,   0,   0,   0,   0,   0,   0,   0,   0,   0,   0,   0,   0,\n",
              "          0,  46, 130, 183, 253, 253, 207,   2,   0,   0,   0,   0,   0,\n",
              "          0,   0],\n",
              "       [  0,   0,   0,   0,   0,   0,   0,   0,   0,   0,   0,   0,  39,\n",
              "        148, 229, 253, 253, 253, 250, 182,   0,   0,   0,   0,   0,   0,\n",
              "          0,   0],\n",
              "       [  0,   0,   0,   0,   0,   0,   0,   0,   0,   0,  24, 114, 221,\n",
              "        253, 253, 253, 253, 201,  78,   0,   0,   0,   0,   0,   0,   0,\n",
              "          0,   0],\n",
              "       [  0,   0,   0,   0,   0,   0,   0,   0,  23,  66, 213, 253, 253,\n",
              "        253, 253, 198,  81,   2,   0,   0,   0,   0,   0,   0,   0,   0,\n",
              "          0,   0],\n",
              "       [  0,   0,   0,   0,   0,   0,  18, 171, 219, 253, 253, 253, 253,\n",
              "        195,  80,   9,   0,   0,   0,   0,   0,   0,   0,   0,   0,   0,\n",
              "          0,   0],\n",
              "       [  0,   0,   0,   0,  55, 172, 226, 253, 253, 253, 253, 244, 133,\n",
              "         11,   0,   0,   0,   0,   0,   0,   0,   0,   0,   0,   0,   0,\n",
              "          0,   0],\n",
              "       [  0,   0,   0,   0, 136, 253, 253, 253, 212, 135, 132,  16,   0,\n",
              "          0,   0,   0,   0,   0,   0,   0,   0,   0,   0,   0,   0,   0,\n",
              "          0,   0],\n",
              "       [  0,   0,   0,   0,   0,   0,   0,   0,   0,   0,   0,   0,   0,\n",
              "          0,   0,   0,   0,   0,   0,   0,   0,   0,   0,   0,   0,   0,\n",
              "          0,   0],\n",
              "       [  0,   0,   0,   0,   0,   0,   0,   0,   0,   0,   0,   0,   0,\n",
              "          0,   0,   0,   0,   0,   0,   0,   0,   0,   0,   0,   0,   0,\n",
              "          0,   0],\n",
              "       [  0,   0,   0,   0,   0,   0,   0,   0,   0,   0,   0,   0,   0,\n",
              "          0,   0,   0,   0,   0,   0,   0,   0,   0,   0,   0,   0,   0,\n",
              "          0,   0]], dtype=uint8)</pre></div><script>\n",
              "      (() => {\n",
              "      const titles = ['show data', 'hide data'];\n",
              "      let index = 0\n",
              "      document.querySelector('#id-01caaea8-9223-41f8-813f-bb234bc80eee button').onclick = (e) => {\n",
              "        document.querySelector('#id-01caaea8-9223-41f8-813f-bb234bc80eee').classList.toggle('show_array');\n",
              "        index = (++index) % 2;\n",
              "        document.querySelector('#id-01caaea8-9223-41f8-813f-bb234bc80eee button').textContent = titles[index];\n",
              "        e.preventDefault();\n",
              "        e.stopPropagation();\n",
              "      }\n",
              "      })();\n",
              "    </script>"
            ]
          },
          "metadata": {},
          "execution_count": 5
        }
      ]
    },
    {
      "cell_type": "code",
      "source": [
        "\n",
        "train_images = train_images.reshape(train_images.shape[0], 28, 28, 1).astype('float32')\n",
        "train_images = (train_images - 127.5) / 127.5  # Normalize the images to [-1, 1]\n"
      ],
      "metadata": {
        "id": "Wd3BOFzNVnHw"
      },
      "execution_count": null,
      "outputs": []
    },
    {
      "cell_type": "code",
      "source": [
        "train_images.shape"
      ],
      "metadata": {
        "colab": {
          "base_uri": "https://localhost:8080/"
        },
        "id": "pVgqxKLPWG_R",
        "outputId": "483262d6-7f80-4b5a-ee87-25b6a8894f39"
      },
      "execution_count": null,
      "outputs": [
        {
          "output_type": "execute_result",
          "data": {
            "text/plain": [
              "(60000, 28, 28, 1)"
            ]
          },
          "metadata": {},
          "execution_count": 7
        }
      ]
    },
    {
      "cell_type": "code",
      "source": [
        "train_images[0]"
      ],
      "metadata": {
        "colab": {
          "base_uri": "https://localhost:8080/"
        },
        "id": "FFuf-XIXWLxy",
        "outputId": "a6bc48a2-46fb-45b3-de08-2e25397de02f"
      },
      "execution_count": null,
      "outputs": [
        {
          "output_type": "execute_result",
          "data": {
            "text/plain": [
              "array([[[-1.        ],\n",
              "        [-1.        ],\n",
              "        [-1.        ],\n",
              "        [-1.        ],\n",
              "        [-1.        ],\n",
              "        [-1.        ],\n",
              "        [-1.        ],\n",
              "        [-1.        ],\n",
              "        [-1.        ],\n",
              "        [-1.        ],\n",
              "        [-1.        ],\n",
              "        [-1.        ],\n",
              "        [-1.        ],\n",
              "        [-1.        ],\n",
              "        [-1.        ],\n",
              "        [-1.        ],\n",
              "        [-1.        ],\n",
              "        [-1.        ],\n",
              "        [-1.        ],\n",
              "        [-1.        ],\n",
              "        [-1.        ],\n",
              "        [-1.        ],\n",
              "        [-1.        ],\n",
              "        [-1.        ],\n",
              "        [-1.        ],\n",
              "        [-1.        ],\n",
              "        [-1.        ],\n",
              "        [-1.        ]],\n",
              "\n",
              "       [[-1.        ],\n",
              "        [-1.        ],\n",
              "        [-1.        ],\n",
              "        [-1.        ],\n",
              "        [-1.        ],\n",
              "        [-1.        ],\n",
              "        [-1.        ],\n",
              "        [-1.        ],\n",
              "        [-1.        ],\n",
              "        [-1.        ],\n",
              "        [-1.        ],\n",
              "        [-1.        ],\n",
              "        [-1.        ],\n",
              "        [-1.        ],\n",
              "        [-1.        ],\n",
              "        [-1.        ],\n",
              "        [-1.        ],\n",
              "        [-1.        ],\n",
              "        [-1.        ],\n",
              "        [-1.        ],\n",
              "        [-1.        ],\n",
              "        [-1.        ],\n",
              "        [-1.        ],\n",
              "        [-1.        ],\n",
              "        [-1.        ],\n",
              "        [-1.        ],\n",
              "        [-1.        ],\n",
              "        [-1.        ]],\n",
              "\n",
              "       [[-1.        ],\n",
              "        [-1.        ],\n",
              "        [-1.        ],\n",
              "        [-1.        ],\n",
              "        [-1.        ],\n",
              "        [-1.        ],\n",
              "        [-1.        ],\n",
              "        [-1.        ],\n",
              "        [-1.        ],\n",
              "        [-1.        ],\n",
              "        [-1.        ],\n",
              "        [-1.        ],\n",
              "        [-1.        ],\n",
              "        [-1.        ],\n",
              "        [-1.        ],\n",
              "        [-1.        ],\n",
              "        [-1.        ],\n",
              "        [-1.        ],\n",
              "        [-1.        ],\n",
              "        [-1.        ],\n",
              "        [-1.        ],\n",
              "        [-1.        ],\n",
              "        [-1.        ],\n",
              "        [-1.        ],\n",
              "        [-1.        ],\n",
              "        [-1.        ],\n",
              "        [-1.        ],\n",
              "        [-1.        ]],\n",
              "\n",
              "       [[-1.        ],\n",
              "        [-1.        ],\n",
              "        [-1.        ],\n",
              "        [-1.        ],\n",
              "        [-1.        ],\n",
              "        [-1.        ],\n",
              "        [-1.        ],\n",
              "        [-1.        ],\n",
              "        [-1.        ],\n",
              "        [-1.        ],\n",
              "        [-1.        ],\n",
              "        [-1.        ],\n",
              "        [-1.        ],\n",
              "        [-1.        ],\n",
              "        [-1.        ],\n",
              "        [-1.        ],\n",
              "        [-1.        ],\n",
              "        [-1.        ],\n",
              "        [-1.        ],\n",
              "        [-1.        ],\n",
              "        [-1.        ],\n",
              "        [-1.        ],\n",
              "        [-1.        ],\n",
              "        [-1.        ],\n",
              "        [-1.        ],\n",
              "        [-1.        ],\n",
              "        [-1.        ],\n",
              "        [-1.        ]],\n",
              "\n",
              "       [[-1.        ],\n",
              "        [-1.        ],\n",
              "        [-1.        ],\n",
              "        [-1.        ],\n",
              "        [-1.        ],\n",
              "        [-1.        ],\n",
              "        [-1.        ],\n",
              "        [-1.        ],\n",
              "        [-1.        ],\n",
              "        [-1.        ],\n",
              "        [-1.        ],\n",
              "        [-1.        ],\n",
              "        [-1.        ],\n",
              "        [-1.        ],\n",
              "        [-1.        ],\n",
              "        [-1.        ],\n",
              "        [-1.        ],\n",
              "        [-1.        ],\n",
              "        [-1.        ],\n",
              "        [-1.        ],\n",
              "        [-1.        ],\n",
              "        [-1.        ],\n",
              "        [-1.        ],\n",
              "        [-1.        ],\n",
              "        [-1.        ],\n",
              "        [-1.        ],\n",
              "        [-1.        ],\n",
              "        [-1.        ]],\n",
              "\n",
              "       [[-1.        ],\n",
              "        [-1.        ],\n",
              "        [-1.        ],\n",
              "        [-1.        ],\n",
              "        [-1.        ],\n",
              "        [-1.        ],\n",
              "        [-1.        ],\n",
              "        [-1.        ],\n",
              "        [-1.        ],\n",
              "        [-1.        ],\n",
              "        [-1.        ],\n",
              "        [-1.        ],\n",
              "        [-0.9764706 ],\n",
              "        [-0.85882354],\n",
              "        [-0.85882354],\n",
              "        [-0.85882354],\n",
              "        [-0.01176471],\n",
              "        [ 0.06666667],\n",
              "        [ 0.37254903],\n",
              "        [-0.79607844],\n",
              "        [ 0.3019608 ],\n",
              "        [ 1.        ],\n",
              "        [ 0.9372549 ],\n",
              "        [-0.00392157],\n",
              "        [-1.        ],\n",
              "        [-1.        ],\n",
              "        [-1.        ],\n",
              "        [-1.        ]],\n",
              "\n",
              "       [[-1.        ],\n",
              "        [-1.        ],\n",
              "        [-1.        ],\n",
              "        [-1.        ],\n",
              "        [-1.        ],\n",
              "        [-1.        ],\n",
              "        [-1.        ],\n",
              "        [-1.        ],\n",
              "        [-0.7647059 ],\n",
              "        [-0.7176471 ],\n",
              "        [-0.2627451 ],\n",
              "        [ 0.20784314],\n",
              "        [ 0.33333334],\n",
              "        [ 0.9843137 ],\n",
              "        [ 0.9843137 ],\n",
              "        [ 0.9843137 ],\n",
              "        [ 0.9843137 ],\n",
              "        [ 0.9843137 ],\n",
              "        [ 0.7647059 ],\n",
              "        [ 0.34901962],\n",
              "        [ 0.9843137 ],\n",
              "        [ 0.8980392 ],\n",
              "        [ 0.5294118 ],\n",
              "        [-0.49803922],\n",
              "        [-1.        ],\n",
              "        [-1.        ],\n",
              "        [-1.        ],\n",
              "        [-1.        ]],\n",
              "\n",
              "       [[-1.        ],\n",
              "        [-1.        ],\n",
              "        [-1.        ],\n",
              "        [-1.        ],\n",
              "        [-1.        ],\n",
              "        [-1.        ],\n",
              "        [-1.        ],\n",
              "        [-0.6156863 ],\n",
              "        [ 0.8666667 ],\n",
              "        [ 0.9843137 ],\n",
              "        [ 0.9843137 ],\n",
              "        [ 0.9843137 ],\n",
              "        [ 0.9843137 ],\n",
              "        [ 0.9843137 ],\n",
              "        [ 0.9843137 ],\n",
              "        [ 0.9843137 ],\n",
              "        [ 0.9843137 ],\n",
              "        [ 0.96862745],\n",
              "        [-0.27058825],\n",
              "        [-0.35686275],\n",
              "        [-0.35686275],\n",
              "        [-0.56078434],\n",
              "        [-0.69411767],\n",
              "        [-1.        ],\n",
              "        [-1.        ],\n",
              "        [-1.        ],\n",
              "        [-1.        ],\n",
              "        [-1.        ]],\n",
              "\n",
              "       [[-1.        ],\n",
              "        [-1.        ],\n",
              "        [-1.        ],\n",
              "        [-1.        ],\n",
              "        [-1.        ],\n",
              "        [-1.        ],\n",
              "        [-1.        ],\n",
              "        [-0.85882354],\n",
              "        [ 0.7176471 ],\n",
              "        [ 0.9843137 ],\n",
              "        [ 0.9843137 ],\n",
              "        [ 0.9843137 ],\n",
              "        [ 0.9843137 ],\n",
              "        [ 0.9843137 ],\n",
              "        [ 0.5529412 ],\n",
              "        [ 0.42745098],\n",
              "        [ 0.9372549 ],\n",
              "        [ 0.8901961 ],\n",
              "        [-1.        ],\n",
              "        [-1.        ],\n",
              "        [-1.        ],\n",
              "        [-1.        ],\n",
              "        [-1.        ],\n",
              "        [-1.        ],\n",
              "        [-1.        ],\n",
              "        [-1.        ],\n",
              "        [-1.        ],\n",
              "        [-1.        ]],\n",
              "\n",
              "       [[-1.        ],\n",
              "        [-1.        ],\n",
              "        [-1.        ],\n",
              "        [-1.        ],\n",
              "        [-1.        ],\n",
              "        [-1.        ],\n",
              "        [-1.        ],\n",
              "        [-1.        ],\n",
              "        [-0.37254903],\n",
              "        [ 0.22352941],\n",
              "        [-0.16078432],\n",
              "        [ 0.9843137 ],\n",
              "        [ 0.9843137 ],\n",
              "        [ 0.60784316],\n",
              "        [-0.9137255 ],\n",
              "        [-1.        ],\n",
              "        [-0.6627451 ],\n",
              "        [ 0.20784314],\n",
              "        [-1.        ],\n",
              "        [-1.        ],\n",
              "        [-1.        ],\n",
              "        [-1.        ],\n",
              "        [-1.        ],\n",
              "        [-1.        ],\n",
              "        [-1.        ],\n",
              "        [-1.        ],\n",
              "        [-1.        ],\n",
              "        [-1.        ]],\n",
              "\n",
              "       [[-1.        ],\n",
              "        [-1.        ],\n",
              "        [-1.        ],\n",
              "        [-1.        ],\n",
              "        [-1.        ],\n",
              "        [-1.        ],\n",
              "        [-1.        ],\n",
              "        [-1.        ],\n",
              "        [-1.        ],\n",
              "        [-0.8901961 ],\n",
              "        [-0.99215686],\n",
              "        [ 0.20784314],\n",
              "        [ 0.9843137 ],\n",
              "        [-0.29411766],\n",
              "        [-1.        ],\n",
              "        [-1.        ],\n",
              "        [-1.        ],\n",
              "        [-1.        ],\n",
              "        [-1.        ],\n",
              "        [-1.        ],\n",
              "        [-1.        ],\n",
              "        [-1.        ],\n",
              "        [-1.        ],\n",
              "        [-1.        ],\n",
              "        [-1.        ],\n",
              "        [-1.        ],\n",
              "        [-1.        ],\n",
              "        [-1.        ]],\n",
              "\n",
              "       [[-1.        ],\n",
              "        [-1.        ],\n",
              "        [-1.        ],\n",
              "        [-1.        ],\n",
              "        [-1.        ],\n",
              "        [-1.        ],\n",
              "        [-1.        ],\n",
              "        [-1.        ],\n",
              "        [-1.        ],\n",
              "        [-1.        ],\n",
              "        [-1.        ],\n",
              "        [ 0.09019608],\n",
              "        [ 0.9843137 ],\n",
              "        [ 0.49019608],\n",
              "        [-0.9843137 ],\n",
              "        [-1.        ],\n",
              "        [-1.        ],\n",
              "        [-1.        ],\n",
              "        [-1.        ],\n",
              "        [-1.        ],\n",
              "        [-1.        ],\n",
              "        [-1.        ],\n",
              "        [-1.        ],\n",
              "        [-1.        ],\n",
              "        [-1.        ],\n",
              "        [-1.        ],\n",
              "        [-1.        ],\n",
              "        [-1.        ]],\n",
              "\n",
              "       [[-1.        ],\n",
              "        [-1.        ],\n",
              "        [-1.        ],\n",
              "        [-1.        ],\n",
              "        [-1.        ],\n",
              "        [-1.        ],\n",
              "        [-1.        ],\n",
              "        [-1.        ],\n",
              "        [-1.        ],\n",
              "        [-1.        ],\n",
              "        [-1.        ],\n",
              "        [-0.9137255 ],\n",
              "        [ 0.49019608],\n",
              "        [ 0.9843137 ],\n",
              "        [-0.4509804 ],\n",
              "        [-1.        ],\n",
              "        [-1.        ],\n",
              "        [-1.        ],\n",
              "        [-1.        ],\n",
              "        [-1.        ],\n",
              "        [-1.        ],\n",
              "        [-1.        ],\n",
              "        [-1.        ],\n",
              "        [-1.        ],\n",
              "        [-1.        ],\n",
              "        [-1.        ],\n",
              "        [-1.        ],\n",
              "        [-1.        ]],\n",
              "\n",
              "       [[-1.        ],\n",
              "        [-1.        ],\n",
              "        [-1.        ],\n",
              "        [-1.        ],\n",
              "        [-1.        ],\n",
              "        [-1.        ],\n",
              "        [-1.        ],\n",
              "        [-1.        ],\n",
              "        [-1.        ],\n",
              "        [-1.        ],\n",
              "        [-1.        ],\n",
              "        [-1.        ],\n",
              "        [-0.7254902 ],\n",
              "        [ 0.8901961 ],\n",
              "        [ 0.7647059 ],\n",
              "        [ 0.25490198],\n",
              "        [-0.15294118],\n",
              "        [-0.99215686],\n",
              "        [-1.        ],\n",
              "        [-1.        ],\n",
              "        [-1.        ],\n",
              "        [-1.        ],\n",
              "        [-1.        ],\n",
              "        [-1.        ],\n",
              "        [-1.        ],\n",
              "        [-1.        ],\n",
              "        [-1.        ],\n",
              "        [-1.        ]],\n",
              "\n",
              "       [[-1.        ],\n",
              "        [-1.        ],\n",
              "        [-1.        ],\n",
              "        [-1.        ],\n",
              "        [-1.        ],\n",
              "        [-1.        ],\n",
              "        [-1.        ],\n",
              "        [-1.        ],\n",
              "        [-1.        ],\n",
              "        [-1.        ],\n",
              "        [-1.        ],\n",
              "        [-1.        ],\n",
              "        [-1.        ],\n",
              "        [-0.3647059 ],\n",
              "        [ 0.88235295],\n",
              "        [ 0.9843137 ],\n",
              "        [ 0.9843137 ],\n",
              "        [-0.06666667],\n",
              "        [-0.8039216 ],\n",
              "        [-1.        ],\n",
              "        [-1.        ],\n",
              "        [-1.        ],\n",
              "        [-1.        ],\n",
              "        [-1.        ],\n",
              "        [-1.        ],\n",
              "        [-1.        ],\n",
              "        [-1.        ],\n",
              "        [-1.        ]],\n",
              "\n",
              "       [[-1.        ],\n",
              "        [-1.        ],\n",
              "        [-1.        ],\n",
              "        [-1.        ],\n",
              "        [-1.        ],\n",
              "        [-1.        ],\n",
              "        [-1.        ],\n",
              "        [-1.        ],\n",
              "        [-1.        ],\n",
              "        [-1.        ],\n",
              "        [-1.        ],\n",
              "        [-1.        ],\n",
              "        [-1.        ],\n",
              "        [-1.        ],\n",
              "        [-0.64705884],\n",
              "        [ 0.45882353],\n",
              "        [ 0.9843137 ],\n",
              "        [ 0.9843137 ],\n",
              "        [ 0.1764706 ],\n",
              "        [-0.7882353 ],\n",
              "        [-1.        ],\n",
              "        [-1.        ],\n",
              "        [-1.        ],\n",
              "        [-1.        ],\n",
              "        [-1.        ],\n",
              "        [-1.        ],\n",
              "        [-1.        ],\n",
              "        [-1.        ]],\n",
              "\n",
              "       [[-1.        ],\n",
              "        [-1.        ],\n",
              "        [-1.        ],\n",
              "        [-1.        ],\n",
              "        [-1.        ],\n",
              "        [-1.        ],\n",
              "        [-1.        ],\n",
              "        [-1.        ],\n",
              "        [-1.        ],\n",
              "        [-1.        ],\n",
              "        [-1.        ],\n",
              "        [-1.        ],\n",
              "        [-1.        ],\n",
              "        [-1.        ],\n",
              "        [-1.        ],\n",
              "        [-0.8745098 ],\n",
              "        [-0.27058825],\n",
              "        [ 0.9764706 ],\n",
              "        [ 0.9843137 ],\n",
              "        [ 0.46666667],\n",
              "        [-1.        ],\n",
              "        [-1.        ],\n",
              "        [-1.        ],\n",
              "        [-1.        ],\n",
              "        [-1.        ],\n",
              "        [-1.        ],\n",
              "        [-1.        ],\n",
              "        [-1.        ]],\n",
              "\n",
              "       [[-1.        ],\n",
              "        [-1.        ],\n",
              "        [-1.        ],\n",
              "        [-1.        ],\n",
              "        [-1.        ],\n",
              "        [-1.        ],\n",
              "        [-1.        ],\n",
              "        [-1.        ],\n",
              "        [-1.        ],\n",
              "        [-1.        ],\n",
              "        [-1.        ],\n",
              "        [-1.        ],\n",
              "        [-1.        ],\n",
              "        [-1.        ],\n",
              "        [-1.        ],\n",
              "        [-1.        ],\n",
              "        [-1.        ],\n",
              "        [ 0.9529412 ],\n",
              "        [ 0.9843137 ],\n",
              "        [ 0.9529412 ],\n",
              "        [-0.49803922],\n",
              "        [-1.        ],\n",
              "        [-1.        ],\n",
              "        [-1.        ],\n",
              "        [-1.        ],\n",
              "        [-1.        ],\n",
              "        [-1.        ],\n",
              "        [-1.        ]],\n",
              "\n",
              "       [[-1.        ],\n",
              "        [-1.        ],\n",
              "        [-1.        ],\n",
              "        [-1.        ],\n",
              "        [-1.        ],\n",
              "        [-1.        ],\n",
              "        [-1.        ],\n",
              "        [-1.        ],\n",
              "        [-1.        ],\n",
              "        [-1.        ],\n",
              "        [-1.        ],\n",
              "        [-1.        ],\n",
              "        [-1.        ],\n",
              "        [-1.        ],\n",
              "        [-0.6392157 ],\n",
              "        [ 0.01960784],\n",
              "        [ 0.43529412],\n",
              "        [ 0.9843137 ],\n",
              "        [ 0.9843137 ],\n",
              "        [ 0.62352943],\n",
              "        [-0.9843137 ],\n",
              "        [-1.        ],\n",
              "        [-1.        ],\n",
              "        [-1.        ],\n",
              "        [-1.        ],\n",
              "        [-1.        ],\n",
              "        [-1.        ],\n",
              "        [-1.        ]],\n",
              "\n",
              "       [[-1.        ],\n",
              "        [-1.        ],\n",
              "        [-1.        ],\n",
              "        [-1.        ],\n",
              "        [-1.        ],\n",
              "        [-1.        ],\n",
              "        [-1.        ],\n",
              "        [-1.        ],\n",
              "        [-1.        ],\n",
              "        [-1.        ],\n",
              "        [-1.        ],\n",
              "        [-1.        ],\n",
              "        [-0.69411767],\n",
              "        [ 0.16078432],\n",
              "        [ 0.79607844],\n",
              "        [ 0.9843137 ],\n",
              "        [ 0.9843137 ],\n",
              "        [ 0.9843137 ],\n",
              "        [ 0.9607843 ],\n",
              "        [ 0.42745098],\n",
              "        [-1.        ],\n",
              "        [-1.        ],\n",
              "        [-1.        ],\n",
              "        [-1.        ],\n",
              "        [-1.        ],\n",
              "        [-1.        ],\n",
              "        [-1.        ],\n",
              "        [-1.        ]],\n",
              "\n",
              "       [[-1.        ],\n",
              "        [-1.        ],\n",
              "        [-1.        ],\n",
              "        [-1.        ],\n",
              "        [-1.        ],\n",
              "        [-1.        ],\n",
              "        [-1.        ],\n",
              "        [-1.        ],\n",
              "        [-1.        ],\n",
              "        [-1.        ],\n",
              "        [-0.8117647 ],\n",
              "        [-0.10588235],\n",
              "        [ 0.73333335],\n",
              "        [ 0.9843137 ],\n",
              "        [ 0.9843137 ],\n",
              "        [ 0.9843137 ],\n",
              "        [ 0.9843137 ],\n",
              "        [ 0.5764706 ],\n",
              "        [-0.3882353 ],\n",
              "        [-1.        ],\n",
              "        [-1.        ],\n",
              "        [-1.        ],\n",
              "        [-1.        ],\n",
              "        [-1.        ],\n",
              "        [-1.        ],\n",
              "        [-1.        ],\n",
              "        [-1.        ],\n",
              "        [-1.        ]],\n",
              "\n",
              "       [[-1.        ],\n",
              "        [-1.        ],\n",
              "        [-1.        ],\n",
              "        [-1.        ],\n",
              "        [-1.        ],\n",
              "        [-1.        ],\n",
              "        [-1.        ],\n",
              "        [-1.        ],\n",
              "        [-0.81960785],\n",
              "        [-0.48235294],\n",
              "        [ 0.67058825],\n",
              "        [ 0.9843137 ],\n",
              "        [ 0.9843137 ],\n",
              "        [ 0.9843137 ],\n",
              "        [ 0.9843137 ],\n",
              "        [ 0.5529412 ],\n",
              "        [-0.3647059 ],\n",
              "        [-0.9843137 ],\n",
              "        [-1.        ],\n",
              "        [-1.        ],\n",
              "        [-1.        ],\n",
              "        [-1.        ],\n",
              "        [-1.        ],\n",
              "        [-1.        ],\n",
              "        [-1.        ],\n",
              "        [-1.        ],\n",
              "        [-1.        ],\n",
              "        [-1.        ]],\n",
              "\n",
              "       [[-1.        ],\n",
              "        [-1.        ],\n",
              "        [-1.        ],\n",
              "        [-1.        ],\n",
              "        [-1.        ],\n",
              "        [-1.        ],\n",
              "        [-0.85882354],\n",
              "        [ 0.34117648],\n",
              "        [ 0.7176471 ],\n",
              "        [ 0.9843137 ],\n",
              "        [ 0.9843137 ],\n",
              "        [ 0.9843137 ],\n",
              "        [ 0.9843137 ],\n",
              "        [ 0.5294118 ],\n",
              "        [-0.37254903],\n",
              "        [-0.92941177],\n",
              "        [-1.        ],\n",
              "        [-1.        ],\n",
              "        [-1.        ],\n",
              "        [-1.        ],\n",
              "        [-1.        ],\n",
              "        [-1.        ],\n",
              "        [-1.        ],\n",
              "        [-1.        ],\n",
              "        [-1.        ],\n",
              "        [-1.        ],\n",
              "        [-1.        ],\n",
              "        [-1.        ]],\n",
              "\n",
              "       [[-1.        ],\n",
              "        [-1.        ],\n",
              "        [-1.        ],\n",
              "        [-1.        ],\n",
              "        [-0.5686275 ],\n",
              "        [ 0.34901962],\n",
              "        [ 0.77254903],\n",
              "        [ 0.9843137 ],\n",
              "        [ 0.9843137 ],\n",
              "        [ 0.9843137 ],\n",
              "        [ 0.9843137 ],\n",
              "        [ 0.9137255 ],\n",
              "        [ 0.04313726],\n",
              "        [-0.9137255 ],\n",
              "        [-1.        ],\n",
              "        [-1.        ],\n",
              "        [-1.        ],\n",
              "        [-1.        ],\n",
              "        [-1.        ],\n",
              "        [-1.        ],\n",
              "        [-1.        ],\n",
              "        [-1.        ],\n",
              "        [-1.        ],\n",
              "        [-1.        ],\n",
              "        [-1.        ],\n",
              "        [-1.        ],\n",
              "        [-1.        ],\n",
              "        [-1.        ]],\n",
              "\n",
              "       [[-1.        ],\n",
              "        [-1.        ],\n",
              "        [-1.        ],\n",
              "        [-1.        ],\n",
              "        [ 0.06666667],\n",
              "        [ 0.9843137 ],\n",
              "        [ 0.9843137 ],\n",
              "        [ 0.9843137 ],\n",
              "        [ 0.6627451 ],\n",
              "        [ 0.05882353],\n",
              "        [ 0.03529412],\n",
              "        [-0.8745098 ],\n",
              "        [-1.        ],\n",
              "        [-1.        ],\n",
              "        [-1.        ],\n",
              "        [-1.        ],\n",
              "        [-1.        ],\n",
              "        [-1.        ],\n",
              "        [-1.        ],\n",
              "        [-1.        ],\n",
              "        [-1.        ],\n",
              "        [-1.        ],\n",
              "        [-1.        ],\n",
              "        [-1.        ],\n",
              "        [-1.        ],\n",
              "        [-1.        ],\n",
              "        [-1.        ],\n",
              "        [-1.        ]],\n",
              "\n",
              "       [[-1.        ],\n",
              "        [-1.        ],\n",
              "        [-1.        ],\n",
              "        [-1.        ],\n",
              "        [-1.        ],\n",
              "        [-1.        ],\n",
              "        [-1.        ],\n",
              "        [-1.        ],\n",
              "        [-1.        ],\n",
              "        [-1.        ],\n",
              "        [-1.        ],\n",
              "        [-1.        ],\n",
              "        [-1.        ],\n",
              "        [-1.        ],\n",
              "        [-1.        ],\n",
              "        [-1.        ],\n",
              "        [-1.        ],\n",
              "        [-1.        ],\n",
              "        [-1.        ],\n",
              "        [-1.        ],\n",
              "        [-1.        ],\n",
              "        [-1.        ],\n",
              "        [-1.        ],\n",
              "        [-1.        ],\n",
              "        [-1.        ],\n",
              "        [-1.        ],\n",
              "        [-1.        ],\n",
              "        [-1.        ]],\n",
              "\n",
              "       [[-1.        ],\n",
              "        [-1.        ],\n",
              "        [-1.        ],\n",
              "        [-1.        ],\n",
              "        [-1.        ],\n",
              "        [-1.        ],\n",
              "        [-1.        ],\n",
              "        [-1.        ],\n",
              "        [-1.        ],\n",
              "        [-1.        ],\n",
              "        [-1.        ],\n",
              "        [-1.        ],\n",
              "        [-1.        ],\n",
              "        [-1.        ],\n",
              "        [-1.        ],\n",
              "        [-1.        ],\n",
              "        [-1.        ],\n",
              "        [-1.        ],\n",
              "        [-1.        ],\n",
              "        [-1.        ],\n",
              "        [-1.        ],\n",
              "        [-1.        ],\n",
              "        [-1.        ],\n",
              "        [-1.        ],\n",
              "        [-1.        ],\n",
              "        [-1.        ],\n",
              "        [-1.        ],\n",
              "        [-1.        ]],\n",
              "\n",
              "       [[-1.        ],\n",
              "        [-1.        ],\n",
              "        [-1.        ],\n",
              "        [-1.        ],\n",
              "        [-1.        ],\n",
              "        [-1.        ],\n",
              "        [-1.        ],\n",
              "        [-1.        ],\n",
              "        [-1.        ],\n",
              "        [-1.        ],\n",
              "        [-1.        ],\n",
              "        [-1.        ],\n",
              "        [-1.        ],\n",
              "        [-1.        ],\n",
              "        [-1.        ],\n",
              "        [-1.        ],\n",
              "        [-1.        ],\n",
              "        [-1.        ],\n",
              "        [-1.        ],\n",
              "        [-1.        ],\n",
              "        [-1.        ],\n",
              "        [-1.        ],\n",
              "        [-1.        ],\n",
              "        [-1.        ],\n",
              "        [-1.        ],\n",
              "        [-1.        ],\n",
              "        [-1.        ],\n",
              "        [-1.        ]]], dtype=float32)"
            ]
          },
          "metadata": {},
          "execution_count": 8
        }
      ]
    },
    {
      "cell_type": "code",
      "source": [
        "\n",
        "BUFFER_SIZE = 60000 #shuffling\n",
        "BATCH_SIZE = 256\n"
      ],
      "metadata": {
        "id": "4a98mdJMWSXH"
      },
      "execution_count": null,
      "outputs": []
    },
    {
      "cell_type": "code",
      "source": [
        "6000/256 #no. of time for propagation"
      ],
      "metadata": {
        "colab": {
          "base_uri": "https://localhost:8080/"
        },
        "id": "HxAcAlKXXFbQ",
        "outputId": "29a4f04e-a49a-4581-b6fe-0320c78053c6"
      },
      "execution_count": null,
      "outputs": [
        {
          "output_type": "execute_result",
          "data": {
            "text/plain": [
              "23.4375"
            ]
          },
          "metadata": {},
          "execution_count": 10
        }
      ]
    },
    {
      "cell_type": "code",
      "source": [
        "# Batch and shuffle the data\n",
        "train_dataset = tf.data.Dataset.from_tensor_slices(train_images).shuffle(BUFFER_SIZE).batch(BATCH_SIZE)"
      ],
      "metadata": {
        "id": "X-kmgs0-XMs3"
      },
      "execution_count": null,
      "outputs": []
    },
    {
      "cell_type": "code",
      "source": [
        "print(train_dataset)"
      ],
      "metadata": {
        "colab": {
          "base_uri": "https://localhost:8080/"
        },
        "id": "DAkfMwU-X2wR",
        "outputId": "f20e4127-bb33-4ab8-eac6-1fe38bcf7974"
      },
      "execution_count": null,
      "outputs": [
        {
          "output_type": "stream",
          "name": "stdout",
          "text": [
            "<_BatchDataset element_spec=TensorSpec(shape=(None, 28, 28, 1), dtype=tf.float32, name=None)>\n"
          ]
        }
      ]
    },
    {
      "cell_type": "code",
      "source": [
        "noise = tf.random.normal([1,100])"
      ],
      "metadata": {
        "id": "H5QqcYzzYOWf"
      },
      "execution_count": null,
      "outputs": []
    },
    {
      "cell_type": "code",
      "source": [
        "print(len(noise[0]))"
      ],
      "metadata": {
        "colab": {
          "base_uri": "https://localhost:8080/"
        },
        "id": "HvNGVOU8aoLz",
        "outputId": "bd9b89a4-9ae3-4696-981c-7dc1f475547e"
      },
      "execution_count": null,
      "outputs": [
        {
          "output_type": "stream",
          "name": "stdout",
          "text": [
            "100\n"
          ]
        }
      ]
    },
    {
      "cell_type": "markdown",
      "source": [
        "Creating the model"
      ],
      "metadata": {
        "id": "Ia485cebbuAD"
      }
    },
    {
      "cell_type": "markdown",
      "source": [
        "Generator\n"
      ],
      "metadata": {
        "id": "ngF11GcWbxgz"
      }
    },
    {
      "cell_type": "code",
      "source": [
        "def make_generator_model():\n",
        "    model = tf.keras.Sequential()\n",
        "    model.add(layers.Dense(7*7*256, use_bias=False, input_shape=(100,)))\n",
        "    model.add(layers.BatchNormalization())\n",
        "    model.add(layers.LeakyReLU())\n",
        "\n",
        "    model.add(layers.Reshape((7, 7, 256)))\n",
        "    assert model.output_shape == (None, 7, 7, 256)  # Note: None is the batch size\n",
        "\n",
        "    model.add(layers.Conv2DTranspose(128, (5, 5), strides=(1, 1), padding='same', use_bias=False))\n",
        "    assert model.output_shape == (None, 7, 7, 128)\n",
        "    model.add(layers.BatchNormalization())\n",
        "    model.add(layers.LeakyReLU())\n",
        "\n",
        "    model.add(layers.Conv2DTranspose(64, (5, 5), strides=(2, 2), padding='same', use_bias=False))\n",
        "    assert model.output_shape == (None, 14, 14, 64)\n",
        "    model.add(layers.BatchNormalization())\n",
        "    model.add(layers.LeakyReLU())\n",
        "\n",
        "    model.add(layers.Conv2DTranspose(1, (5, 5), strides=(2, 2), padding='same', use_bias=False, activation='tanh'))\n",
        "    assert model.output_shape == (None, 28, 28, 1)\n",
        "\n",
        "    return model\n"
      ],
      "metadata": {
        "id": "QBnllpCIX_IP"
      },
      "execution_count": null,
      "outputs": []
    },
    {
      "cell_type": "code",
      "source": [
        "# using the untrained generator to generate an image from random noise\n",
        "generator = make_generator_model()\n",
        "\n",
        "noise = tf.random.normal([1, 100])\n",
        "generated_image = generator(noise, training=False)\n",
        "\n",
        "plt.imshow(generated_image[0, :, :, 0], cmap='gray')\n"
      ],
      "metadata": {
        "colab": {
          "base_uri": "https://localhost:8080/",
          "height": 502
        },
        "id": "-WxVfydNatWp",
        "outputId": "930dc595-975c-45a8-af82-cf8a97ac7837"
      },
      "execution_count": null,
      "outputs": [
        {
          "output_type": "stream",
          "name": "stderr",
          "text": [
            "/usr/local/lib/python3.11/dist-packages/keras/src/layers/core/dense.py:87: UserWarning: Do not pass an `input_shape`/`input_dim` argument to a layer. When using Sequential models, prefer using an `Input(shape)` object as the first layer in the model instead.\n",
            "  super().__init__(activity_regularizer=activity_regularizer, **kwargs)\n"
          ]
        },
        {
          "output_type": "execute_result",
          "data": {
            "text/plain": [
              "<matplotlib.image.AxesImage at 0x79539c9ba290>"
            ]
          },
          "metadata": {},
          "execution_count": 16
        },
        {
          "output_type": "display_data",
          "data": {
            "text/plain": [
              "<Figure size 640x480 with 1 Axes>"
            ],
            "image/png": "[encoded data removed]"
          },
          "metadata": {}
        }
      ]
    },
    {
      "cell_type": "markdown",
      "source": [
        "Discriminator"
      ],
      "metadata": {
        "id": "XtXJcjtLb7Bm"
      }
    },
    {
      "cell_type": "code",
      "source": [
        "\n",
        "def make_discriminator_model():\n",
        "    model = tf.keras.Sequential()\n",
        "    model.add(layers.Conv2D(64, (5, 5), strides=(2, 2), padding='same',\n",
        "                                     input_shape=[28, 28, 1]))\n",
        "    model.add(layers.LeakyReLU())\n",
        "    model.add(layers.Dropout(0.3))\n",
        "\n",
        "    model.add(layers.Conv2D(128, (5, 5), strides=(2, 2), padding='same'))\n",
        "    model.add(layers.LeakyReLU())\n",
        "    model.add(layers.Dropout(0.3))\n",
        "\n",
        "    model.add(layers.Flatten())\n",
        "    model.add(layers.Dense(1))\n",
        "\n",
        "    return model"
      ],
      "metadata": {
        "id": "bR5YszuSbg2Z"
      },
      "execution_count": null,
      "outputs": []
    },
    {
      "cell_type": "code",
      "source": [
        "# using the untrained discriminator to predict whether an image is real or fake\n",
        "discriminator = make_discriminator_model()\n",
        "decision = discriminator(generated_image)\n",
        "print (decision)\n"
      ],
      "metadata": {
        "colab": {
          "base_uri": "https://localhost:8080/"
        },
        "id": "QaGuILjqcKh2",
        "outputId": "ba508b75-2f57-43cf-9926-b9b35cc2cc8f"
      },
      "execution_count": null,
      "outputs": [
        {
          "output_type": "stream",
          "name": "stderr",
          "text": [
            "/usr/local/lib/python3.11/dist-packages/keras/src/layers/convolutional/base_conv.py:107: UserWarning: Do not pass an `input_shape`/`input_dim` argument to a layer. When using Sequential models, prefer using an `Input(shape)` object as the first layer in the model instead.\n",
            "  super().__init__(activity_regularizer=activity_regularizer, **kwargs)\n"
          ]
        },
        {
          "output_type": "stream",
          "name": "stdout",
          "text": [
            "tf.Tensor([[0.00031332]], shape=(1, 1), dtype=float32)\n"
          ]
        }
      ]
    },
    {
      "cell_type": "markdown",
      "source": [
        "loss optimizer"
      ],
      "metadata": {
        "id": "esh0fvx9d2Ca"
      }
    },
    {
      "cell_type": "code",
      "source": [
        "\n",
        "# This method returns a helper function to compute cross entropy loss\n",
        "cross_entropy = tf.keras.losses.BinaryCrossentropy(from_logits=True)"
      ],
      "metadata": {
        "id": "S5u8Dk8Kc2ia"
      },
      "execution_count": null,
      "outputs": []
    },
    {
      "cell_type": "code",
      "source": [
        "tf.ones_like((1,1,1,1,1,1,1,1,0,0))"
      ],
      "metadata": {
        "colab": {
          "base_uri": "https://localhost:8080/"
        },
        "id": "t3mO89baetz7",
        "outputId": "9d3cc942-88f3-4c65-e6ab-a20a3d33c844"
      },
      "execution_count": null,
      "outputs": [
        {
          "output_type": "execute_result",
          "data": {
            "text/plain": [
              "<tf.Tensor: shape=(10,), dtype=int32, numpy=array([1, 1, 1, 1, 1, 1, 1, 1, 1, 1], dtype=int32)>"
            ]
          },
          "metadata": {},
          "execution_count": 20
        }
      ]
    },
    {
      "cell_type": "markdown",
      "source": [
        "Discrimnator Loss\n",
        "\n",
        "This method quantifies how well the discriminator is able to distinguish real images from fakes. It compares the discriminator's predictions on real images to an array of 1s, and the discriminator's predictions on fake (generated) images to an array of 0s."
      ],
      "metadata": {
        "id": "0vcBeEV0eLz9"
      }
    },
    {
      "cell_type": "code",
      "source": [
        "\n",
        "\n",
        "def discriminator_loss(real_output, fake_output):\n",
        "    real_loss = cross_entropy(tf.ones_like(real_output), real_output)\n",
        "    fake_loss = cross_entropy(tf.zeros_like(fake_output), fake_output)\n",
        "    total_loss = real_loss + fake_loss\n",
        "    return total_loss"
      ],
      "metadata": {
        "id": "EgEzBB4Ed_QP"
      },
      "execution_count": null,
      "outputs": []
    },
    {
      "cell_type": "markdown",
      "source": [
        "Generator Loss\n",
        "\n",
        "The generator's loss quantifies how well it was able to trick the discriminator. Intuitively, if the generator is performing well, the discriminator will classify the fake images as real (or 1). Here, compare the discriminators decisions on the generated images to an array of 1s"
      ],
      "metadata": {
        "id": "t1213AeIeV1h"
      }
    },
    {
      "cell_type": "code",
      "source": [
        "def generator_loss(fake_output):\n",
        "    return cross_entropy(tf.ones_like(fake_output), fake_output)\n"
      ],
      "metadata": {
        "id": "d8bJjbbmeT5S"
      },
      "execution_count": null,
      "outputs": []
    },
    {
      "cell_type": "markdown",
      "source": [
        "The discriminator and the generator optimizers are different since we will train two networks separately."
      ],
      "metadata": {
        "id": "5AUQf5tYefa0"
      }
    },
    {
      "cell_type": "code",
      "source": [
        "\n",
        "generator_optimizer = tf.keras.optimizers.Adam(1e-4)\n",
        "discriminator_optimizer = tf.keras.optimizers.Adam(1e-4)\n"
      ],
      "metadata": {
        "id": "Sv_v3ZpdeZOK"
      },
      "execution_count": null,
      "outputs": []
    },
    {
      "cell_type": "code",
      "source": [
        "discriminator = make_discriminator_model()"
      ],
      "metadata": {
        "id": "p2pAH-Gus0oP"
      },
      "execution_count": null,
      "outputs": []
    },
    {
      "cell_type": "markdown",
      "source": [
        "Saving the checkpoints"
      ],
      "metadata": {
        "id": "MDS7NzmYfTNE"
      }
    },
    {
      "cell_type": "code",
      "source": [
        "checkpoint_dir = './training_checkpoints'\n",
        "checkpoint_prefix = os.path.join(checkpoint_dir, \"ckpt\")\n",
        "checkpoint = tf.train.Checkpoint(generator_optimizer=generator_optimizer,\n",
        "                                 discriminator_optimizer=discriminator_optimizer,\n",
        "                                 generator=generator,\n",
        "                                 discriminator=discriminator)"
      ],
      "metadata": {
        "id": "UuvnqI3BfMws"
      },
      "execution_count": null,
      "outputs": []
    },
    {
      "cell_type": "markdown",
      "source": [
        "Defining the training loop"
      ],
      "metadata": {
        "id": "-g8RQ55CfZ7F"
      }
    },
    {
      "cell_type": "code",
      "source": [
        "EPOCHS = 100\n",
        "noise_dim = 100\n",
        "num_examples_to_generate = 16\n",
        "\n",
        "# You will reuse this seed overtime (so it's easier)\n",
        "# to visualize progress in the animated GIF)\n",
        "seed = tf.random.normal([num_examples_to_generate, noise_dim])"
      ],
      "metadata": {
        "id": "Tvdd1r9QfWa5"
      },
      "execution_count": null,
      "outputs": []
    },
    {
      "cell_type": "markdown",
      "source": [
        "The training loop begins with generator receiving a random seed as input. That seed is used to produce an image. The discriminator is then used to classify real images (drawn from the training set) and fakes images (produced by the generator). The loss is calculated for each of these models, and the gradients are used to update the generator and discriminator."
      ],
      "metadata": {
        "id": "vbDQH2v1fkOh"
      }
    },
    {
      "cell_type": "code",
      "source": [
        "# Notice the use of `tf.function`\n",
        "# This annotation causes the function to be \"compiled\".\n",
        "@tf.function\n",
        "def train_step(images):\n",
        "    noise = tf.random.normal([BATCH_SIZE, noise_dim])\n",
        "\n",
        "    with tf.GradientTape() as gen_tape, tf.GradientTape() as disc_tape:\n",
        "      generated_images = generator(noise, training=True)\n",
        "\n",
        "      real_output = discriminator(images, training=True)\n",
        "      fake_output = discriminator(generated_images, training=True)\n",
        "\n",
        "      gen_loss = generator_loss(fake_output)\n",
        "      disc_loss = discriminator_loss(real_output, fake_output)\n",
        "\n",
        "    gradients_of_generator = gen_tape.gradient(gen_loss, generator.trainable_variables)\n",
        "    gradients_of_discriminator = disc_tape.gradient(disc_loss, discriminator.trainable_variables)\n",
        "\n",
        "    generator_optimizer.apply_gradients(zip(gradients_of_generator, generator.trainable_variables))\n",
        "    discriminator_optimizer.apply_gradients(zip(gradients_of_discriminator, discriminator.trainable_variables))"
      ],
      "metadata": {
        "id": "JmpAx7a1fc_h"
      },
      "execution_count": null,
      "outputs": []
    },
    {
      "cell_type": "code",
      "source": [
        "def train(dataset, epochs):\n",
        "  for epoch in range(epochs):\n",
        "    start = time.time()\n",
        "\n",
        "    for image_batch in dataset:\n",
        "      train_step(image_batch)\n",
        "\n",
        "    # Produce images for the GIF as you go\n",
        "    display.clear_output(wait=True)\n",
        "    generate_and_save_images(generator,\n",
        "                             epoch + 1,\n",
        "                             seed)\n",
        "\n",
        "    # Save the model every 15 epochs\n",
        "    if (epoch + 1) % 15 == 0:\n",
        "      checkpoint.save(file_prefix = checkpoint_prefix)\n",
        "\n",
        "    print ('Time for epoch {} is {} sec'.format(epoch + 1, time.time()-start))\n",
        "\n",
        "  # Generate after the final epoch\n",
        "  display.clear_output(wait=True)\n",
        "  generate_and_save_images(generator,\n",
        "                           epochs,\n",
        "                           seed)"
      ],
      "metadata": {
        "id": "-yyQ_hndhsTm"
      },
      "execution_count": null,
      "outputs": []
    },
    {
      "cell_type": "markdown",
      "source": [
        "Generate and save images"
      ],
      "metadata": {
        "id": "KihMbDKHiM4r"
      }
    },
    {
      "cell_type": "code",
      "source": [
        "def generate_and_save_images(model, epoch, test_input):\n",
        "  # Notice `training` is set to False.\n",
        "  # This is so all layers run in inference mode (batchnorm).\n",
        "  predictions = model(test_input, training=False)\n",
        "\n",
        "  fig = plt.figure(figsize=(4, 4))\n",
        "\n",
        "  for i in range(predictions.shape[0]):\n",
        "      plt.subplot(4, 4, i+1)\n",
        "      plt.imshow(predictions[i, :, :, 0] * 127.5 + 127.5, cmap='gray')\n",
        "      plt.axis('off')\n",
        "\n",
        "  plt.savefig('image_at_epoch_{:04d}.png'.format(epoch))\n",
        "  plt.show()"
      ],
      "metadata": {
        "id": "en2yiEGyh38c"
      },
      "execution_count": null,
      "outputs": []
    },
    {
      "cell_type": "markdown",
      "source": [
        "Training the model\n",
        "\n",
        "Call the train() method defined above to train the generator and discriminator simultaneously. Note, training GANs can be tricky. It's important that the generator and discriminator do not overpower each other (e.g., that they train at a similar rate).\n",
        "\n",
        "At the beginning of the training, the generated images look like random noise. As training progresses, the generated digits will look increasingly real. After about 50 epochs, they resemble MNIST digits."
      ],
      "metadata": {
        "id": "yHWCBjGliVFz"
      }
    },
    {
      "cell_type": "code",
      "source": [
        "train(train_dataset, EPOCHS)"
      ],
      "metadata": {
        "colab": {
          "base_uri": "https://localhost:8080/",
          "height": 345
        },
        "id": "TfYymW1oqPuH",
        "outputId": "561117dc-007a-4e84-f815-540c687291ee"
      },
      "execution_count": 30,
      "outputs": [
        {
          "output_type": "display_data",
          "data": {
            "text/plain": [
              "<Figure size 400x400 with 16 Axes>"
            ],
            "image/png": "[encoded data removed]"
          },
          "metadata": {}
        }
      ]
    },
    {
      "cell_type": "code",
      "source": [
        "checkpoint.restore(tf.train.latest_checkpoint(checkpoint_dir))"
      ],
      "metadata": {
        "id": "k9PsYpbh1fyi",
        "outputId": "e8455760-13b4-4eb1-cd4a-36507e45d51f",
        "colab": {
          "base_uri": "https://localhost:8080/"
        }
      },
      "execution_count": 31,
      "outputs": [
        {
          "output_type": "execute_result",
          "data": {
            "text/plain": [
              "<tensorflow.python.checkpoint.checkpoint.CheckpointLoadStatus at 0x7952f22f6110>"
            ]
          },
          "metadata": {},
          "execution_count": 31
        }
      ]
    },
    {
      "cell_type": "code",
      "source": [
        "# Display a single image using the epoch number\n",
        "def display_image(epoch_no):\n",
        "  return PIL.Image.open('image_at_epoch_{:04d}.png'.format(epoch_no))"
      ],
      "metadata": {
        "id": "Ncn7ujy_1_hR"
      },
      "execution_count": 32,
      "outputs": []
    },
    {
      "cell_type": "code",
      "source": [
        "display_image(EPOCHS)"
      ],
      "metadata": {
        "id": "RtltxD3T2Cdy",
        "outputId": "72df89ef-28b1-4fda-f511-18780be7476a",
        "colab": {
          "base_uri": "https://localhost:8080/",
          "height": 417
        }
      },
      "execution_count": 33,
      "outputs": [
        {
          "output_type": "execute_result",
          "data": {
            "text/plain": [
              "<PIL.PngImagePlugin.PngImageFile image mode=RGBA size=400x400>"
            ],
            "image/png": "[encoded data removed]"
          },
          "metadata": {},
          "execution_count": 33
        }
      ]
    },
    {
      "cell_type": "code",
      "source": [
        "\n",
        "anim_file = 'dcgan.gif'\n",
        "\n",
        "with imageio.get_writer(anim_file, mode='I') as writer:\n",
        "  filenames = glob.glob('image*.png')\n",
        "  filenames = sorted(filenames)\n",
        "  for filename in filenames:\n",
        "    image = imageio.imread(filename)\n",
        "    writer.append_data(image)\n",
        "  image = imageio.imread(filename)\n",
        "  writer.append_data(image)"
      ],
      "metadata": {
        "id": "dg7Lg9bn2Gkk"
      },
      "execution_count": null,
      "outputs": []
    },
    {
      "cell_type": "code",
      "source": [
        "import tensorflow_docs.vis.embed as embed\n",
        "embed.embed_file(anim_file)\n"
      ],
      "metadata": {
        "id": "rqamwxja2LpP"
      },
      "execution_count": null,
      "outputs": []
    },
    {
      "cell_type": "code",
      "source": [
        "# Step 1: Install and import necessary packages\n",
        "import numpy as np\n",
        "import matplotlib.pyplot as plt\n",
        "import seaborn as sns\n",
        "from sklearn.tree import DecisionTreeClassifier, plot_tree\n",
        "from sklearn.model_selection import train_test_split\n",
        "from sklearn.metrics import accuracy_score, classification_report, confusion_matrix\n",
        "from tensorflow.keras.datasets import mnist\n",
        "\n",
        "# Step 2: Load and preprocess the MNIST dataset\n",
        "(train_images, train_labels), (_, _) = mnist.load_data()\n",
        "X = train_images.reshape((train_images.shape[0], -1))  # Flatten 28x28 to 784\n",
        "y = train_labels\n",
        "X_train, X_test, y_train, y_test = train_test_split(X, y, test_size=0.2, random_state=42)\n",
        "\n",
        "# Step 3: Train the Decision Tree Classifier\n",
        "clf = DecisionTreeClassifier(max_depth=10, random_state=42)\n",
        "clf.fit(X_train, y_train)\n",
        "y_pred = clf.predict(X_test)\n",
        "\n",
        "# Step 4: Metrics and Plots\n",
        "# Accuracy\n",
        "print(\"Accuracy:\", accuracy_score(y_test, y_pred))\n",
        "\n",
        "# Classification report\n",
        "print(\"Classification Report:\\n\", classification_report(y_test, y_pred))\n",
        "\n",
        "# Confusion matrix heatmap\n",
        "plt.figure(figsize=(10, 7))\n",
        "sns.heatmap(confusion_matrix(y_test, y_pred), annot=True, fmt=\"d\", cmap=\"Blues\")\n",
        "plt.title(\"Confusion Matrix\")\n",
        "plt.xlabel(\"Predicted\")\n",
        "plt.ylabel(\"True\")\n",
        "plt.show()\n",
        "\n",
        "# Decision tree plot (can be large!)\n",
        "plt.figure(figsize=(20, 10))\n",
        "plot_tree(clf, filled=True, max_depth=2, feature_names=[f\"pixel_{i}\" for i in range(784)])\n",
        "plt.title(\"Decision Tree (Depth=2 Preview)\")\n",
        "plt.show()\n"
      ],
      "metadata": {
        "id": "0PDOxRAjF2JA"
      },
      "execution_count": null,
      "outputs": []
    },
    {
      "cell_type": "code",
      "source": [
        "from sklearn.svm import SVR\n",
        "from sklearn.metrics import mean_squared_error, r2_score\n",
        "\n",
        "# Due to SVR's high compute cost, reduce dataset size\n",
        "X_small = X[:2000]\n",
        "y_small = y[:2000]\n",
        "\n",
        "# Train-test split\n",
        "X_train_svr, X_test_svr, y_train_svr, y_test_svr = train_test_split(X_small, y_small, test_size=0.2, random_state=42)\n",
        "\n",
        "# Fit SVR model (use RBF kernel)\n",
        "svr = SVR(kernel='rbf')\n",
        "svr.fit(X_train_svr, y_train_svr)\n",
        "\n",
        "# Predict and evaluate\n",
        "y_pred_svr = svr.predict(X_test_svr)\n",
        "mse = mean_squared_error(y_test_svr, y_pred_svr)\n",
        "r2 = r2_score(y_test_svr, y_pred_svr)\n",
        "\n",
        "print(\"SVR MSE:\", mse)\n",
        "print(\"SVR R² Score:\", r2)\n",
        "\n",
        "# Plot true vs predicted\n",
        "plt.figure(figsize=(8, 5))\n",
        "plt.scatter(y_test_svr, y_pred_svr, alpha=0.5)\n",
        "plt.xlabel(\"True Label\")\n",
        "plt.ylabel(\"Predicted Label\")\n",
        "plt.title(\"SVR: True vs Predicted\")\n",
        "plt.grid(True)\n",
        "plt.show()\n"
      ],
      "metadata": {
        "id": "feI1t_D_MWYp"
      },
      "execution_count": null,
      "outputs": []
    },
    {
      "cell_type": "code",
      "source": [
        "import xgboost as xgb\n",
        "from sklearn.model_selection import train_test_split\n",
        "from sklearn.metrics import mean_absolute_error\n",
        "from tensorflow.keras.datasets import mnist\n",
        "\n",
        "# Load and flatten MNIST\n",
        "(X, y), (_, _) = mnist.load_data()\n",
        "X = X.reshape((X.shape[0], -1))\n",
        "X_train, X_test, y_train, y_test = train_test_split(X, y, test_size=0.2, random_state=42)\n",
        "\n",
        "# Create DMatrix\n",
        "dtrain = xgb.DMatrix(X_train, label=y_train)\n",
        "dtest = xgb.DMatrix(X_test, label=y_test)\n",
        "\n",
        "# Params\n",
        "params = {\n",
        "    \"objective\": \"reg:squarederror\",\n",
        "    \"eval_metric\": \"mae\"\n",
        "}\n",
        "\n",
        "# Watchlist for evaluation\n",
        "evals = [(dtrain, \"train\"), (dtest, \"test\")]\n",
        "\n",
        "# Train and store logs\n",
        "eval_result = {}\n",
        "model = xgb.train(params, dtrain, num_boost_round=50, evals=evals, evals_result=eval_result, verbose_eval=False)\n"
      ],
      "metadata": {
        "id": "c6y2UzrkQRa8"
      },
      "execution_count": null,
      "outputs": []
    },
    {
      "cell_type": "code",
      "source": [
        "# Extract MAE logs\n",
        "train_mae = eval_result[\"train\"][\"mae\"]\n",
        "test_mae = eval_result[\"test\"][\"mae\"]\n",
        "\n",
        "# Plot\n",
        "plt.figure(figsize=(10, 5))\n",
        "plt.plot(train_mae, label=\"Train MAE\")\n",
        "plt.plot(test_mae, label=\"Test MAE\")\n",
        "plt.xlabel(\"Boosting Rounds\")\n",
        "plt.ylabel(\"Mean Absolute Error\")\n",
        "plt.title(\"MAE over Boosting Rounds\")\n",
        "plt.legend()\n",
        "plt.grid(True)\n",
        "plt.show()\n"
      ],
      "metadata": {
        "id": "WC9siigkQToX"
      },
      "execution_count": null,
      "outputs": []
    }
  ]
}